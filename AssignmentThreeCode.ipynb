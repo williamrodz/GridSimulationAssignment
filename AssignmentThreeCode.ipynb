{
 "cells": [
  {
   "cell_type": "markdown",
   "metadata": {},
   "source": [
    "# Part 1\n",
    "\n",
    "The housing estate is laid out as shown in Figure 1, each house is fed by a single-phase connection. You may assume that the average power profile of the homes follows the Elexon Class 1 curves1, but all scaled to ensure that the a winter peak is 1.25kW.\n",
    "\n",
    "At the time of the original design, it is known that an ADMD of 2kW was used. The transformer at the substation is rated at 33kV/415 V, 250 kVA, Z=14% pu. The same cable size is used throughout."
   ]
  },
  {
   "cell_type": "markdown",
   "metadata": {},
   "source": [
    "The **phase voltage** is the voltage between a phase sub cable (that goes into a house) and ground.\n",
    "\n",
    "The **line voltage** is the voltage difference between each phase. It's difference between each of the three lines in one cable. Since the phases are at a certain geometric offset, we multiply this by sqrt(3)"
   ]
  },
  {
   "cell_type": "markdown",
   "metadata": {},
   "source": [
    "![Line Voltage](./lineVoltage.png)"
   ]
  },
  {
   "cell_type": "markdown",
   "metadata": {},
   "source": [
    "Transformer is creating a three-phase output.\n",
    "\n",
    "This is why we have: \n",
    "$$\n",
    "V_{phase} = \\frac{V_{line}}{\\sqrt 3}\n",
    "$$\n",
    "\n",
    "$$\n",
    "V_{phase} = \\frac{415 V}{\\sqrt 3} = 239.6003617137\n",
    "$$\n",
    "We round this to 240 V"
   ]
  },
  {
   "cell_type": "markdown",
   "metadata": {},
   "source": [
    "## Resistance of the line"
   ]
  },
  {
   "cell_type": "markdown",
   "metadata": {},
   "source": [
    "For a UK DNO, the voltage drop from a transformer to the end of a line should be max 7%"
   ]
  },
  {
   "cell_type": "markdown",
   "metadata": {},
   "source": [
    "For minimum voltage at the end of the line:\n",
    "\n",
    "$$\n",
    "V_{phase} = 240 V * 0.93\n",
    "$$\n",
    "\n",
    "$$\n",
    "V_{phase} = 223.2 V\n",
    "$$"
   ]
  },
  {
   "cell_type": "markdown",
   "metadata": {},
   "source": [
    "We derive $R_{line}$ with the voltage drop from the top to the bottom:\n",
    "\n",
    "$$\n",
    "V_{\\text{phase, transformer}} - I*R_{\\text{Line}} = V_{\\text{phase, end of line}}\n",
    "$$\n",
    "$$\n",
    "240V - I*R_{\\text{Line}} = 223 V\n",
    "$$\n",
    "\n",
    "$$\n",
    "R_{\\text{line}} = \\frac{17}{I_{\\text{current at the top of the transformer}}}\n",
    "$$"
   ]
  },
  {
   "cell_type": "markdown",
   "metadata": {},
   "source": [
    "Power going into each home should be around **56 kW** due to low voltage, residential, and radial design standards. We then use this to derive the current of the cable.\n",
    "\n",
    "$$\n",
    "P = IV\n",
    "$$\n",
    "\n",
    "$$\n",
    "I = \\frac{P_{\\text{Home}}}{V_{\\text{Phase}}}\n",
    "$$\n",
    "\n",
    "$$\n",
    "I = \\frac{56 kW}{240 V}\n",
    "$$\n",
    "\n",
    "$$\n",
    "I = 233.3333333333 A\n",
    "$$"
   ]
  },
  {
   "cell_type": "markdown",
   "metadata": {},
   "source": [
    "Now, let's consider the power going into each house.\n",
    "\n",
    "We want the power into each house to be $P_{house} = 2kW$\n",
    "We also want the voltage to be $V_{house} = 240$\n",
    "With this, we calculate the home's current:\n",
    "\n",
    "$$\n",
    "I_{home} = \\frac{P_{home}}{V_{home}}\n",
    "$$\n",
    "\n",
    "$$\n",
    "I_{home} = \\frac{2000 W}{240 V}\n",
    "$$\n",
    "\n",
    "$$\n",
    "I_{home} = 8.333 A\n",
    "$$"
   ]
  },
  {
   "cell_type": "markdown",
   "metadata": {},
   "source": [
    "How do we calculate the overall current?\n",
    "\n",
    "We want one phase to provide power for three houses at a time.\n",
    "\n",
    "In one side of a road, we have 24 houses. Therefore, we need 8 buses to supply 24 houses.\n",
    "\n",
    "Each bus will provide current for three houses. So, each bus will provide $3*I_{home}$ of current. For one road, we have 8 buses that provide a total of $24*I_{home}$\n",
    "\n",
    "But each bus provides three phases, so to calculate the current in each phase cable, we divide that by three\n",
    "\n",
    "$$\n",
    "I_{phase} = \\frac{24 * I_{home}}{3 \\text{ phases}}\n",
    "$$\n",
    "\n",
    "$$\n",
    "I_{phase} = 8 * I_{home}\n",
    "$$\n",
    "\n",
    "$$\n",
    "I_{phase} = 8 * 8.333 A\n",
    "$$\n",
    "\n",
    "$$\n",
    "I_{phase} = 66.7 A\n",
    "$$"
   ]
  },
  {
   "cell_type": "markdown",
   "metadata": {},
   "source": [
    "With this max amperage, we see that we can use the BS 5467 MAINS CABLE XLPE with the following conditions:\n",
    "- 1 THREE OR1 FOUR CORE CABLE THREE-PHASE AC : 75 A\n",
    "- 16 MM^2\n",
    "\n",
    "(https://www.clevelandcable.com/media/pdfs/BS5467-XLPE-MDPE-fixed-wiring-mains-cable.pdf)"
   ]
  },
  {
   "cell_type": "markdown",
   "metadata": {},
   "source": [
    "$$\n",
    "R = \\frac{\\rho L}{A}\n",
    "$$\n",
    "\n",
    "$$\n",
    "R = \\frac{\\rho L}{0.248 m^2}\n",
    "$$\n"
   ]
  },
  {
   "cell_type": "code",
   "execution_count": null,
   "metadata": {},
   "outputs": [],
   "source": [
    "import pandapower as pp\n",
    "import pandapower.networks as nw\n",
    "import pandapower.plotting as plot\n",
    "\n",
    "# create an empty network\n",
    "net = pp.create_empty_network()\n",
    "\n",
    "#create bus from high voltage \n",
    "high_voltage_volts = 33e3 # 33 kV on the high side of the transformer\n",
    "high_voltage_kv = 33 \n",
    "\n",
    "low_voltage_volts = 415 # 415 V on the low side of the transformer\n",
    "low_voltage_kv = 0.415\n",
    "high_voltage_bus = pp.create_bus(net, vn_kv=high_voltage_kv, name=\"High Voltage\")\n",
    "low_voltage_bus = pp.create_bus(net, vn_kv=low_voltage_kv, name=\"Low Voltage\")\n",
    "\n",
    "real_impedance = 1 # assumption given from professor\n",
    "total_impedance = 14\n",
    "iron_losses = 0.00125 # 0.5 percent of the rating of the transformer. 0.25 M VA *0.005 here\n",
    "open_loop_losses = 0.5 # to verify, we used previously apparently\n",
    "\n",
    "# The transformer at the substation is rated at \n",
    "# 33kV/415 V, 250 kVA, Z=14% pu.\n",
    "# 33kV/0.415 kV, 0.250 MVA, Z=14% pu.\n",
    "\n",
    "\n",
    "# We chose a transformer here:\n",
    "# https://pandapower.readthedocs.io/en/v2.13.1/std_types/basic.html#transformers\n",
    "# transformer = pp.create_transformer(\n",
    "#   net,\n",
    "#   hv_bus=high_voltage_bus,\n",
    "#   lv_bus=low_voltage_bus,\n",
    "#   std_type=\"0.25 MVA 20/0.4 kV\",\n",
    "#   name=\"Main Transformer\")\n",
    "\n",
    "transformer = pp.create_transformer_from_parameters(\n",
    "  net,\n",
    "  hv_bus=high_voltage_bus,\n",
    "  lv_bus=low_voltage_bus,\n",
    "  sn_mva=0.25, # 0.25 MVA from the assignment prompt\n",
    "  vn_hv_kv=high_voltage_kv,\n",
    "  vn_lv_kv=low_voltage_kv,\n",
    "  vkr_percent=real_impedance,\n",
    "  vk_percent=total_impedance,\n",
    "  pfe_kw=iron_losses,\n",
    "  i0_percent=open_loop_losses,\n",
    "  shift_degree=0,\n",
    "  tap_side=\"hv\",\n",
    "  tap_pos=-5, # lower here, means higher voltage on the other side due to the ratios\n",
    "  tap_neutral=0,\n",
    "  tap_max=-5, # 5 percent up and down\n",
    "  tap_min=5,\n",
    "  tap_step_percent=1, # one step at a time (given in the question)\n",
    "  tap_step_degree=0, # we're not doing any phase shifting\n",
    "  tap_phase_shifter=False,\n",
    "  name=\"Main Transformer\")"
   ]
  },
  {
   "cell_type": "code",
   "execution_count": null,
   "metadata": {},
   "outputs": [],
   "source": [
    "# create the slack bus\n",
    "slack_voltage_per_unit = 1.00 # we reduced this to 0 since the tap changer is controlling the voltage now\n",
    "pp.create_ext_grid(net, bus=high_voltage_bus, vm_pu=slack_voltage_per_unit, name=\"Grid Connection with Slack Bus\")"
   ]
  },
  {
   "cell_type": "markdown",
   "metadata": {},
   "source": [
    "Now, let's create the buses for the loads"
   ]
  },
  {
   "cell_type": "code",
   "execution_count": null,
   "metadata": {},
   "outputs": [],
   "source": [
    "num_buses_per_line = 8\n",
    "num_lines = 4\n",
    "\n",
    "lines = []\n",
    "for line in range(num_lines):\n",
    "  buses_for_line = []\n",
    "  for i in range(num_buses_per_line):\n",
    "    buses_for_line.append(pp.create_bus(net, vn_kv=low_voltage_kv, name=f\"Bus {i+1}\"))\n",
    "  lines.append(buses_for_line[:])\n",
    "lines"
   ]
  },
  {
   "cell_type": "code",
   "execution_count": null,
   "metadata": {},
   "outputs": [],
   "source": [
    "# Create a bus for each group of three houses\n",
    "power_per_house_mw = 0.002 # 2 kW ADMD, 1.25 kW actual peak\n",
    "real_power_load_per_three_houses = 3 * power_per_house_mw\n",
    "power_factor = 0.9\n",
    "\n",
    "hypotenuse = real_power_load_per_three_houses / power_factor\n",
    "\n",
    "# rp^2 + im^2 = h^2\n",
    "# im = sqrt(h^2 - rp^2)\n",
    "\n",
    "reactive_power_per_three_houses = (hypotenuse**2 - real_power_load_per_three_houses**2)**0.5\n",
    "for line in range(num_lines):\n",
    "  for i in range(num_buses_per_line):\n",
    "    pp.create_load(net, bus=lines[line][i-1], p_mw=real_power_load_per_three_houses, q_mvar=reactive_power_per_three_houses, name=f\"Load for bus {i+1}\")"
   ]
  },
  {
   "cell_type": "markdown",
   "metadata": {},
   "source": [
    "$$\n",
    "C = \\frac{\\Epsilon_{r}}{18 * ln(\\frac{D_{out}}{D_{in}})} \\mu F / km\n",
    "$$\n",
    "Find D_{in} from mm^2 of 35. We add 2 mm of insulation on each side\n",
    "$$\n",
    "C = \\frac{\\Epsilon_{r}}{18 * ln(\\frac{D_{out}}{D_{out}+4})} \\mu F / km\n",
    "$$"
   ]
  },
  {
   "cell_type": "code",
   "execution_count": null,
   "metadata": {},
   "outputs": [],
   "source": [
    "# Now create lines between the buses\n",
    "# For 35 mm^2 (cable for 2 kW ADMD): 1.15, 0.135, 0.59e3, 0.115\n",
    "# For 16 mm^2 (cable for 1.25 kW ADMD): 2.5, negligible, 0.437e3, 0.075\n",
    "# For 50 mm^2 (Cable we will use with -3): 0.866, 0.135, 0.34e3, 0.135\n",
    "width_of_home_km = 0.012 # 12 meters \n",
    "line_resistance_per_km = 0.866 # ohms per km\n",
    "line_reactance_per_km = 0.135 # 0.135 ohms per km\n",
    "line_capacitance_per_km = 0.34e3 # nano Farads per km\n",
    "max_thermal_current_kA = 0.135 # this is the rating of our cable in kA\n",
    "\n",
    "for line in range(num_lines):\n",
    "  for i in range(num_buses_per_line):\n",
    "    if i == 0:\n",
    "      pp.create_line_from_parameters(\n",
    "        net,\n",
    "        from_bus=low_voltage_bus,\n",
    "        to_bus=lines[line][i],\n",
    "        length_km=width_of_home_km*7,\n",
    "        r_ohm_per_km=line_resistance_per_km,\n",
    "        x_ohm_per_km=line_reactance_per_km,\n",
    "        c_nf_per_km=line_capacitance_per_km,\n",
    "        max_i_ka=max_thermal_current_kA,\n",
    "        name=f\"Line from High Voltage to Bus {i+1}\")\n",
    "    else:\n",
    "      pp.create_line_from_parameters(\n",
    "        net,\n",
    "        from_bus=lines[line][i-1],\n",
    "        to_bus=lines[line][i],\n",
    "        length_km=width_of_home_km*3,\n",
    "        r_ohm_per_km=line_resistance_per_km,\n",
    "        x_ohm_per_km=line_reactance_per_km,\n",
    "        c_nf_per_km=line_capacitance_per_km,\n",
    "        max_i_ka=max_thermal_current_kA,\n",
    "        name=f\"Line from Bus {i} to Bus {i+1}\")\n",
    "net.line"
   ]
  },
  {
   "cell_type": "code",
   "execution_count": null,
   "metadata": {},
   "outputs": [],
   "source": [
    "net.bus"
   ]
  },
  {
   "cell_type": "code",
   "execution_count": null,
   "metadata": {},
   "outputs": [],
   "source": [
    "pp.runpp(net, numba=False)"
   ]
  },
  {
   "cell_type": "code",
   "execution_count": null,
   "metadata": {},
   "outputs": [],
   "source": [
    "net.res_bus"
   ]
  },
  {
   "cell_type": "code",
   "execution_count": null,
   "metadata": {},
   "outputs": [],
   "source": [
    "net.res_line"
   ]
  },
  {
   "cell_type": "code",
   "execution_count": null,
   "metadata": {},
   "outputs": [],
   "source": [
    "pp.plotting.simple_plot(net)"
   ]
  },
  {
   "cell_type": "code",
   "execution_count": null,
   "metadata": {},
   "outputs": [],
   "source": [
    "net.res_trafo"
   ]
  },
  {
   "cell_type": "code",
   "execution_count": null,
   "metadata": {},
   "outputs": [],
   "source": [
    "cmap_list=[(0, \"green\"), (50, \"yellow\"), (100, \"red\")]\n",
    "cmap, norm = plot.cmap_continuous(cmap_list)"
   ]
  },
  {
   "cell_type": "code",
   "execution_count": null,
   "metadata": {},
   "outputs": [],
   "source": [
    "lc = plot.create_line_collection(net, net.line.index, zorder=1, cmap=cmap, norm=norm, linewidths=2)\n",
    "plot.draw_collections([lc], figsize=(8,6))"
   ]
  },
  {
   "cell_type": "code",
   "execution_count": null,
   "metadata": {},
   "outputs": [],
   "source": [
    "ideal_color = \"#4cd137\"\n",
    "too_high_color = \"blue\"\n",
    "too_low_color = \"red\"\n",
    "cmap_list=[(0.9, too_low_color), (1.0, ideal_color), (1.06, too_high_color)] #+6 and -10 percent for voltage regulations\n",
    "cmap, norm = plot.cmap_continuous(cmap_list)\n",
    "bc = plot.create_bus_collection(net, net.bus.index, size=0.4, zorder=2, cmap=cmap, norm=norm)\n",
    "plot.draw_collections([bc], figsize=(8,6))"
   ]
  },
  {
   "cell_type": "code",
   "execution_count": null,
   "metadata": {},
   "outputs": [],
   "source": [
    "ideal_color = \"#4cd137\"\n",
    "too_high_color = \"blue\"\n",
    "too_low_color = \"red\"\n",
    "cmap_list=[(0.9, too_low_color), (1.0, ideal_color), (1.06, too_high_color)] #+6 and -10 percent for voltage regulations\n",
    "cmap, norm = plot.cmap_continuous(cmap_list)\n",
    "bc = plot.create_bus_collection(net, net.bus.index, size=0.1, zorder=2, cmap=cmap, norm=norm)\n",
    "plot.draw_collections([lc,bc], figsize=(8,6))"
   ]
  },
  {
   "cell_type": "code",
   "execution_count": null,
   "metadata": {},
   "outputs": [],
   "source": [
    "cmap_list=[(50, \"green\"), (75, \"yellow\"), (100, \"red\")]\n",
    "cmap, norm = plot.cmap_continuous(cmap_list)\n",
    "tc = pp.plotting.create_trafo_collection(net, net.trafo.index, cmap=cmap, norm=norm)\n",
    "plot.draw_collections([lc,bc, tc])"
   ]
  }
 ],
 "metadata": {
  "kernelspec": {
   "display_name": "Python 3 (ipykernel)",
   "language": "python",
   "name": "python3"
  },
  "language_info": {
   "codemirror_mode": {
    "name": "ipython",
    "version": 3
   },
   "file_extension": ".py",
   "mimetype": "text/x-python",
   "name": "python",
   "nbconvert_exporter": "python",
   "pygments_lexer": "ipython3",
   "version": "3.12.0"
  },
  "vscode": {
   "interpreter": {
    "hash": "b0fa6594d8f4cbf19f97940f81e996739fb7646882a419484c72d19e05852a7e"
   }
  }
 },
 "nbformat": 4,
 "nbformat_minor": 2
}
